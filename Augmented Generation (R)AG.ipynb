{
 "cells": [
  {
   "cell_type": "code",
   "execution_count": null,
   "id": "e5dc0fa7-d14a-4e88-92a2-e6fd7781c238",
   "metadata": {},
   "outputs": [],
   "source": [
    "import logging\n",
    "logging.basicConfig(level=logging.INFO)\n",
    "logger = logging.getLogger(__name__)\n",
    "\n",
    "from dotenv import load_dotenv\n",
    "# lädt die (versteckte) Datei die im selben Ordner liegt wie dieses notebook file\n",
    "# die Datei muss .env benannt sein, diese Dateien sind in der Regel ausgeblendet, \n",
    "# weil Dateien mit . andeuten, dass diese im Explorer ausgeblendet werden.\n",
    "# In der Datei\n",
    "load_dotenv()"
   ]
  },
  {
   "cell_type": "markdown",
   "id": "962b802a-59cd-47df-a412-6ee0b14e0f99",
   "metadata": {},
   "source": [
    "## Header\n",
    "Wo wir unseren geheimen Schlüssel für ChatGPT mitschicken mit dem wir uns automatisch einloggen und authentifizieren (und auch unser Budget ansprechen)"
   ]
  },
  {
   "cell_type": "code",
   "execution_count": null,
   "id": "876fd926-47fd-4d2c-a8cf-3b45a5f0f9e2",
   "metadata": {},
   "outputs": [],
   "source": [
    "import os\n",
    "headers = {\n",
    "    \"Content-Type\": \"application/json\",\n",
    "    \"Authorization\": f\"Bearer {os.environ[\"API_KEY\"]}\",\n",
    "}"
   ]
  },
  {
   "cell_type": "code",
   "execution_count": null,
   "id": "5f130c8b-fc60-4ded-9c47-4889a3ff85c7",
   "metadata": {},
   "outputs": [],
   "source": [
    "import pprint\n",
    "import requests\n",
    "\n",
    "def call_openai(payload: dict) -> dict:\n",
    "    ENDPOINT = \"https://api.openai.com/v1/chat/completions\"\n",
    "        \n",
    "    response = requests.post(ENDPOINT, headers=headers, json=payload)\n",
    "    if response.status_code != 200:\n",
    "        logger.warning(f\"Fehlerhafte Antwort: {response.text}\")\n",
    "    endpoint_response = response.json()\n",
    "    return endpoint_response"
   ]
  },
  {
   "cell_type": "markdown",
   "id": "b2dafbfa-6d7e-4ba0-bcb8-4a1b6361e588",
   "metadata": {},
   "source": [
    "# RAG (Retrieval Augmented Generation)\n",
    "wir schauen uns hier den AG Teil an, die Augmented Generation. \n",
    "Sprachmodelle haben einen Wissenshorizont. Das bedeutet das öffentliche Informationen \n",
    "nur bis zu einem bestimmten Punkt im Modell sind.\n",
    "Führt man mit einem Modell eine Unterhaltung können potentiell zeitlich veraltete Antworten gegeben werden."
   ]
  },
  {
   "cell_type": "markdown",
   "id": "1bd2f860-fa7d-42d1-97b5-34fba49a55a5",
   "metadata": {},
   "source": [
    "## Augmented Generation\n",
    "Augmented Generation zielt darauf ab - POTENTIELL - aktuellere Daten in den Kontext des Modells hinzuzufügen.\n",
    "Der Kontext ist einfach die Unterhaltung die wir mit dem Modell führen.\n",
    "In der Praxis bedeutet das, man schiebt dem Modell als Teil der Unterhaltung neue Informationen \"unter\".\n",
    "Woher die kommen und wie die dem Modell bereitgestellt werden hat etwas von einem Zaubertrick der erklärt wird....\n",
    "Alle kochen hier mit Wasser :)"
   ]
  },
  {
   "cell_type": "code",
   "execution_count": null,
   "id": "d9454754-5bb9-4c14-97ad-17c6674308c2",
   "metadata": {},
   "outputs": [],
   "source": [
    "payload = {\n",
    "  # Das 4o klappt in der Regel besser für Bildanalysen\n",
    "  \"model\": \"gpt-4o-mini\",\n",
    "  \"messages\": [\n",
    "    {\"role\": \"system\", \n",
    "     \"content\": \"Du bist ein Wrestling Experte der alle Fragen über amerikanische Wrestler der 90er Jahre beantwortet.\"\n",
    "    },\n",
    "    {\n",
    "      \"role\": \"user\",\n",
    "      \"content\": [\n",
    "        {\n",
    "          \"type\": \"text\",\n",
    "          \"text\": \"\"\"Wann ist Hulk Hogan gestorben?\"\"\"\n",
    "        }\n",
    "      ]\n",
    "    }\n",
    "  ],\n",
    "  \"temperature\": 0.5\n",
    "}"
   ]
  },
  {
   "cell_type": "code",
   "execution_count": null,
   "id": "48b7f28e-7658-4639-bb1a-6674a46ab253",
   "metadata": {},
   "outputs": [],
   "source": [
    "endpoint_response = call_openai(payload=payload)\n",
    "chat_answer = endpoint_response.get('choices', [])[0].get('message', {}).get('content', \"FEHLER\")\n",
    "chat_answer"
   ]
  },
  {
   "cell_type": "markdown",
   "id": "a547ceaf-a34b-481a-b37c-42dfc329ec02",
   "metadata": {},
   "source": [
    "### Der Wrestler Hulk Hogan verstarb am 24.07.2025 - diese Event liegt hinter dem Horizont des Sprachmodells (Ende 2024)\n",
    "Es gibt daher eine mittlerweile falsche Information als Antwort.\n",
    "Man löst dieses Problem oder lindert es in dem man zusätzliche Quellen in die Unterhaltung mit dem Sprachmodell einbettet - die augmented Generation."
   ]
  },
  {
   "cell_type": "code",
   "execution_count": null,
   "id": "02e0558e-ca65-4006-98f8-80cc76a851c3",
   "metadata": {},
   "outputs": [],
   "source": [
    "from bs4 import BeautifulSoup\n",
    "import requests\n",
    "crawl_response = requests.get(\"https://de.wikipedia.org/wiki/Hulk_Hogan\")\n",
    "if crawl_response.status_code != 200:\n",
    "    logger.warning(f\"Website wurde nicht erfoglreich heruntergeladen - {crawl_response.text}\")\n",
    "    raise ValueError(\"Website nicht geladen\")\n",
    "else:\n",
    "    website_text = crawl_response.text\n",
    "    cleaned_text = BeautifulSoup(website_text).get_text()"
   ]
  },
  {
   "cell_type": "code",
   "execution_count": null,
   "id": "405824fc-0a77-4c9a-8d30-91dc99563d0d",
   "metadata": {},
   "outputs": [],
   "source": [
    "payload = {\n",
    "  \"model\": \"gpt-4o-mini\",\n",
    "  \"messages\": [\n",
    "    {\"role\": \"system\", \n",
    "     \"content\": \"Du bist ein Wrestling Experte der alle Fragen über amerikanische Wrestler der 90er Jahre beantwortet.\"\n",
    "    },\n",
    "    {\n",
    "      \"role\": \"user\",\n",
    "      \"content\": [\n",
    "        {\n",
    "          \"type\": \"text\",\n",
    "          \"text\": f\"\"\"Wann ist Hulk Hogan gestorben?\n",
    "                      Berücksichige folgende Informationen {cleaned_text}\n",
    "                      \"\"\"\n",
    "        }\n",
    "      ]\n",
    "    }\n",
    "  ],\n",
    "  \"temperature\": 0.5\n",
    "}"
   ]
  },
  {
   "cell_type": "code",
   "execution_count": null,
   "id": "fd29f538-3dc4-48d8-bfe3-097efd47c9e3",
   "metadata": {},
   "outputs": [],
   "source": [
    "endpoint_response = call_openai(payload=payload)\n",
    "chat_answer = endpoint_response.get('choices', [])[0].get('message', {}).get('content', \"FEHLER\")\n",
    "chat_answer"
   ]
  },
  {
   "cell_type": "markdown",
   "id": "2a2d1315-4735-4223-bff5-56833fc2856c",
   "metadata": {},
   "source": [
    "### R - Retrieval\n",
    "In der Praxis wissen wir nicht ob es neue Infos gibt. Wir wissen nicht zwangsläufig wo es sie gäbe wenn es sie gibt. \n",
    "Der Retrieval-Teil widmet sich der Suche und technischen Umsetzung der Suche, damit \"aktuelle\" Daten ergänzt werden können.\n",
    "Der eigentlichen augmented generation Teil ist ein billiger Taschenspielertrick"
   ]
  },
  {
   "cell_type": "code",
   "execution_count": null,
   "id": "9640aaf2-3379-4119-97f0-67cc7a1a37f2",
   "metadata": {},
   "outputs": [],
   "source": []
  },
  {
   "cell_type": "code",
   "execution_count": null,
   "id": "18dd483c-3ea6-48de-8852-7108249a0b6c",
   "metadata": {},
   "outputs": [],
   "source": []
  }
 ],
 "metadata": {
  "kernelspec": {
   "display_name": "Python 3 (ipykernel)",
   "language": "python",
   "name": "python3"
  },
  "language_info": {
   "codemirror_mode": {
    "name": "ipython",
    "version": 3
   },
   "file_extension": ".py",
   "mimetype": "text/x-python",
   "name": "python",
   "nbconvert_exporter": "python",
   "pygments_lexer": "ipython3",
   "version": "3.13.1"
  }
 },
 "nbformat": 4,
 "nbformat_minor": 5
}
